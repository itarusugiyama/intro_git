{
 "cells": [
  {
   "cell_type": "markdown",
   "id": "7841d014-e268-415f-b7a8-5f9efe4f850e",
   "metadata": {},
   "source": [
    "# Data Sceence Tools and Ecosystem"
   ]
  },
  {
   "cell_type": "markdown",
   "id": "7df6b50b-2b9f-4335-9b05-714126a3c679",
   "metadata": {},
   "source": [
    "In this notebook, Data Science Tools and Ecosystem are summarized."
   ]
  },
  {
   "cell_type": "markdown",
   "id": "912465ba-daa4-4898-976a-87f00795bfbd",
   "metadata": {},
   "source": [
    "Some of the popular languages that Data Scientists use are:\n",
    "1. **Python**\n",
    "2. **R**\n",
    "3. **SQL**\n",
    "4. **Julia**\n",
    "5. **Scala**"
   ]
  },
  {
   "cell_type": "markdown",
   "id": "3d0c5a0d-0f49-45ba-ae09-60950ebc065b",
   "metadata": {},
   "source": [
    "Some of the commonly used libraries used by Data Scientists include:\n",
    "1. **Numpy**\n",
    "2. **pandas**\n",
    "3. **Matplotlib**\n",
    "4. **scikit-learn**"
   ]
  },
  {
   "cell_type": "markdown",
   "id": "21f02766-6bd8-4769-9d34-31b99d271406",
   "metadata": {},
   "source": [
    "| Data Science Tools     |\n",
    "|------------------------|\n",
    "| Jupyter Notebooks      |\n",
    "| RStudio                |\n",
    "| VSCode                 |"
   ]
  },
  {
   "cell_type": "markdown",
   "id": "876e6450-4892-4c77-b540-826570749fd1",
   "metadata": {},
   "source": [
    "### Below are a few example of evaluating arithmetic expressions in Python.\n",
    "\n",
    "1. Addition:\n",
    "   '''python\n",
    "   result = 5 + 3\n",
    "   print(result) # Output:8"
   ]
  },
  {
   "cell_type": "code",
   "execution_count": 1,
   "id": "9537c411-d559-41fa-88f9-d1289ac7184f",
   "metadata": {},
   "outputs": [
    {
     "data": {
      "text/plain": [
       "17"
      ]
     },
     "execution_count": 1,
     "metadata": {},
     "output_type": "execute_result"
    }
   ],
   "source": [
    "#This a simple arithmetic expression to mutiply then add integers\n",
    "(3*4) + 5"
   ]
  },
  {
   "cell_type": "code",
   "execution_count": 2,
   "id": "e2913011-f38a-459f-9e95-09ff2630d214",
   "metadata": {},
   "outputs": [
    {
     "data": {
      "text/plain": [
       "3.3333333333333335"
      ]
     },
     "execution_count": 2,
     "metadata": {},
     "output_type": "execute_result"
    }
   ],
   "source": [
    "# This will convert 200 minutes to hours by dividing by 60.\n",
    "minutes = 200\n",
    "hours = minutes / 60\n",
    "hours"
   ]
  },
  {
   "cell_type": "markdown",
   "id": "3314336a-f7b3-404e-900a-e3235882a7ef",
   "metadata": {},
   "source": [
    "**Objectives:**\r\n",
    "\r\n",
    "- Explore popular languages used in Data Science.\r\n",
    "- Identify commonly used libraries in the field of Data Science.\r\n",
    "- Understand the significance of Data Science tools, including development environments.\r\n",
    "- Practice evaluating arithmetic expressions in Python.\r\n",
    "- Apply a simple code example to convert minutes to hours in Python.\r\n"
   ]
  },
  {
   "cell_type": "markdown",
   "id": "600761c7-82a5-40b5-82e9-2ef801da300b",
   "metadata": {},
   "source": [
    "## Author\n",
    "\n",
    "Itaru Sugiyama"
   ]
  },
  {
   "cell_type": "code",
   "execution_count": null,
   "id": "35b41bcc-3b06-4b78-a334-633d66dd6d58",
   "metadata": {},
   "outputs": [],
   "source": []
  }
 ],
 "metadata": {
  "kernelspec": {
   "display_name": "Python 3 (ipykernel)",
   "language": "python",
   "name": "python3"
  },
  "language_info": {
   "codemirror_mode": {
    "name": "ipython",
    "version": 3
   },
   "file_extension": ".py",
   "mimetype": "text/x-python",
   "name": "python",
   "nbconvert_exporter": "python",
   "pygments_lexer": "ipython3",
   "version": "3.9.0"
  }
 },
 "nbformat": 4,
 "nbformat_minor": 5
}
